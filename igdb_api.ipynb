{
 "cells": [
  {
   "cell_type": "code",
   "execution_count": 2,
   "metadata": {},
   "outputs": [],
   "source": [
    "Client_ID = \"51ykn9y98ltfxwt8lkqdoogr3npz5w\"\n",
    "Client_secret = \"2utcabv5oemodshhj0ox61alw179xp\""
   ]
  },
  {
   "cell_type": "code",
   "execution_count": 3,
   "metadata": {},
   "outputs": [
    {
     "name": "stdout",
     "output_type": "stream",
     "text": [
      "Access Token: og736g1953vthbw18776ted5uewlex\n"
     ]
    }
   ],
   "source": [
    "import requests\n",
    "\n",
    "url = \"https://id.twitch.tv/oauth2/token\"\n",
    "\n",
    "params = {\n",
    "    'client_id': '51ykn9y98ltfxwt8lkqdoogr3npz5w',\n",
    "    'client_secret': '2utcabv5oemodshhj0ox61alw179xp',\n",
    "    'grant_type': 'client_credentials'\n",
    "}\n",
    "\n",
    "response = requests.post(url, params=params)\n",
    "access_token = response.json()['access_token']\n",
    "print(\"Access Token:\", access_token)"
   ]
  },
  {
   "cell_type": "code",
   "execution_count": 4,
   "metadata": {},
   "outputs": [],
   "source": [
    "ACCESS_TOKEN = access_token"
   ]
  },
  {
   "cell_type": "code",
   "execution_count": 5,
   "metadata": {},
   "outputs": [],
   "source": [
    "from igdb.wrapper import IGDBWrapper\n",
    "wrapper = IGDBWrapper(Client_ID, ACCESS_TOKEN)"
   ]
  },
  {
   "cell_type": "code",
   "execution_count": 6,
   "metadata": {},
   "outputs": [],
   "source": [
    "byte_array = wrapper.api_request(\n",
    "    'games',  # endpoint name\n",
    "    'fields id, name; offset 0; where platforms=48;'\n",
    ")"
   ]
  },
  {
   "cell_type": "code",
   "execution_count": 7,
   "metadata": {},
   "outputs": [],
   "source": [
    "import json\n",
    "data = json.loads(byte_array.decode('utf-8'))"
   ]
  },
  {
   "cell_type": "code",
   "execution_count": 8,
   "metadata": {},
   "outputs": [
    {
     "data": {
      "text/plain": [
       "[{'id': 152409, 'name': 'Independence Day Break Head to Head'},\n",
       " {'id': 26109, 'name': 'Battlefield 1: Deluxe Edition Upgrade'},\n",
       " {'id': 342155, 'name': 'The Jumping Bird'},\n",
       " {'id': 112635, 'name': 'Battlefield 1: Early Enlister Deluxe Edition'},\n",
       " {'id': 136681, 'name': \"Ace Combat 7: Skies Unknown - Collector's Edition\"},\n",
       " {'id': 42922,\n",
       "  'name': 'The Witch and the Hundred Knight: Revival Edition - Limited Edition'},\n",
       " {'id': 25975,\n",
       "  'name': 'Batman: Arkham Knight - PlayStation Exclusive Scarecrow Nightmare Missions'},\n",
       " {'id': 154713,\n",
       "  'name': 'Sakaagari Hurricane Portable: Complete Limited Edition'},\n",
       " {'id': 136128, 'name': 'God of War: Bonus Edition'},\n",
       " {'id': 140055, 'name': 'Nioh 2 Season Pass'}]"
      ]
     },
     "execution_count": 8,
     "metadata": {},
     "output_type": "execute_result"
    }
   ],
   "source": [
    "data"
   ]
  },
  {
   "cell_type": "code",
   "execution_count": null,
   "metadata": {},
   "outputs": [
    {
     "ename": "SyntaxError",
     "evalue": "invalid syntax (381011385.py, line 5)",
     "output_type": "error",
     "traceback": [
      "  \u001b[36mCell\u001b[39m\u001b[36m \u001b[39m\u001b[32mIn[12]\u001b[39m\u001b[32m, line 5\u001b[39m\n\u001b[31m    \u001b[39m\u001b[31m'fields';\u001b[39m\n            ^\n\u001b[31mSyntaxError\u001b[39m\u001b[31m:\u001b[39m invalid syntax\n"
     ]
    }
   ],
   "source": [
    "import pprint\n",
    "byte_array = wrapper.api_request(\n",
    "    'games',\n",
    "    'search \"Brawl Stars\"; fields id, name, platforms;'\n",
    "    # 'exclude alternative_name;'\n",
    ")\n",
    "\n",
    "games = json.loads(byte_array.decode('utf-8'))\n",
    "pprint.pprint(games)"
   ]
  },
  {
   "cell_type": "code",
   "execution_count": 29,
   "metadata": {},
   "outputs": [],
   "source": [
    "# Step 1: Get the game ID for God of War\n",
    "byte_array = wrapper.api_request(\n",
    "    'games',\n",
    "    'search \"Valorant\"; fields id, name;'\n",
    ")\n",
    "import json\n",
    "games = json.loads(byte_array.decode('utf-8'))\n",
    "gow_id = games[0]['id']  # Assuming the first result is correct\n",
    "\n",
    "\n",
    "# Step 2: Get characters for that game\n",
    "char_byte_array = wrapper.api_request(\n",
    "    'characters',\n",
    "    f'fields id, name, games; where games = {gow_id};'\n",
    ")\n",
    "characters = json.loads(char_byte_array.decode('utf-8'))\n",
    "\n",
    "# Display characters\n",
    "for c in characters:\n",
    "    print(f\"{c['id']}: {c['name']}\")\n"
   ]
  },
  {
   "cell_type": "code",
   "execution_count": 28,
   "metadata": {},
   "outputs": [
    {
     "name": "stdout",
     "output_type": "stream",
     "text": [
      "10964: Shelly (Games: None)\n",
      "16664: Prof. Shelly Oberon (Games: [119226])\n",
      "5639: Spike (Games: [3042])\n",
      "4387: S.P.I.K.E. (Games: [4846])\n",
      "9440: Spike One (Games: [17994])\n",
      "4978: Leon (Games: [322, 1388, 1389, 2444, 3795, 6574, 19561])\n",
      "5800: Leon Bell (Games: [496])\n",
      "4274: Leon Kuwata (Games: [7842])\n",
      "7020: Squall (Leon) (Games: [1219, 1221])\n",
      "12446: Leon Fuentes (Games: [25076])\n",
      "144: Joey Leone (Games: [730])\n",
      "11663: Leon S. Kennedy (Games: [974, 19686])\n",
      "12314: Cervantes de Leon (Games: [76885])\n",
      "141: Salvatore Leone (Games: [730, 732])\n",
      "3298: Leone Abbacchio (Games: [6517])\n"
     ]
    }
   ],
   "source": [
    "names = [\"Shelly\", \"Colt\", \"Spike\", \"Leon\"]\n",
    "for name in names:\n",
    "    char_bytes = wrapper.api_request(\n",
    "        'characters',\n",
    "        f'search \"{name}\"; fields id, name, games;'\n",
    "    )\n",
    "    chars = json.loads(char_bytes.decode('utf-8'))\n",
    "    for c in chars:\n",
    "        print(f\"{c['id']}: {c['name']} (Games: {c.get(\"games\")})\")\n"
   ]
  },
  {
   "cell_type": "code",
   "execution_count": 14,
   "metadata": {},
   "outputs": [
    {
     "name": "stdout",
     "output_type": "stream",
     "text": [
      "[{'id': 306, 'name': 'Satellaview'},\n",
      " {'id': 339, 'name': 'Sega Pico'},\n",
      " {'id': 376, 'name': 'Epoch Super Cassette Vision'},\n",
      " {'id': 12, 'name': 'Xbox 360'},\n",
      " {'id': 32, 'name': 'Sega Saturn'},\n",
      " {'id': 62, 'name': 'Atari Jaguar'},\n",
      " {'id': 148, 'name': 'AY-3-8607'},\n",
      " {'id': 150, 'name': 'Turbografx-16/PC Engine CD'},\n",
      " {'id': 156, 'name': 'Thomson MO5'},\n",
      " {'id': 309, 'name': 'Evercade'},\n",
      " {'id': 389, 'name': 'AirConsole'},\n",
      " {'id': 13, 'name': 'DOS'},\n",
      " {'id': 41, 'name': 'Wii U'},\n",
      " {'id': 60, 'name': 'Atari 7800'},\n",
      " {'id': 112, 'name': 'Microcomputer'},\n",
      " {'id': 410, 'name': 'Atari Jaguar CD'},\n",
      " {'id': 30, 'name': 'Sega 32X'},\n",
      " {'id': 53, 'name': 'MSX2'},\n",
      " {'id': 61, 'name': 'Atari Lynx'},\n",
      " {'id': 77, 'name': 'Sharp X1'},\n",
      " {'id': 120, 'name': 'Neo Geo Pocket Color'},\n",
      " {'id': 127, 'name': 'Fairchild Channel F'},\n",
      " {'id': 132, 'name': 'Amazon Fire TV'},\n",
      " {'id': 413, 'name': 'Leapster Explorer/LeadPad Explorer'},\n",
      " {'id': 140, 'name': 'AY-3-8500'},\n",
      " {'id': 143, 'name': 'AY-3-8760'},\n",
      " {'id': 153, 'name': 'Dragon 32/64'},\n",
      " {'id': 154, 'name': 'Amstrad PCW'},\n",
      " {'id': 167, 'name': 'PlayStation 5'},\n",
      " {'id': 70, 'name': 'Vectrex'},\n",
      " {'id': 87, 'name': 'Virtual Boy'},\n",
      " {'id': 145, 'name': 'AY-3-8603'},\n",
      " {'id': 386, 'name': 'Meta Quest 2'},\n",
      " {'id': 390, 'name': 'PlayStation VR2'},\n",
      " {'id': 477, 'name': 'Panasonic Jungle'},\n",
      " {'id': 504, 'name': 'Uzebox'},\n",
      " {'id': 65, 'name': 'Atari 8-bit'},\n",
      " {'id': 158, 'name': 'Commodore CDTV'},\n",
      " {'id': 165, 'name': 'PlayStation VR'},\n",
      " {'id': 440, 'name': 'Visual Memory Unit / Visual Memory System'},\n",
      " {'id': 473, 'name': 'Arcadia 2001'},\n",
      " {'id': 474, 'name': 'Gizmondo'},\n",
      " {'id': 48, 'name': 'PlayStation 4'},\n",
      " {'id': 51, 'name': 'Family Computer Disk System'},\n",
      " {'id': 89, 'name': 'Microvision'},\n",
      " {'id': 94, 'name': 'Commodore Plus/4'},\n",
      " {'id': 123, 'name': 'WonderSwan Color'},\n",
      " {'id': 128, 'name': 'PC Engine SuperGrafx'},\n",
      " {'id': 129, 'name': 'Texas Instruments TI-99'},\n",
      " {'id': 482, 'name': 'Sega CD 32X'}]\n"
     ]
    }
   ],
   "source": [
    "byte_array = wrapper.api_request(\n",
    "    'platforms',\n",
    "    'fields id, name; limit 50;'\n",
    ")\n",
    "platforms = json.loads(byte_array.decode('utf-8'))\n",
    "pprint.pprint(platforms)\n"
   ]
  },
  {
   "cell_type": "code",
   "execution_count": null,
   "metadata": {},
   "outputs": [],
   "source": []
  }
 ],
 "metadata": {
  "kernelspec": {
   "display_name": ".venv",
   "language": "python",
   "name": "python3"
  },
  "language_info": {
   "codemirror_mode": {
    "name": "ipython",
    "version": 3
   },
   "file_extension": ".py",
   "mimetype": "text/x-python",
   "name": "python",
   "nbconvert_exporter": "python",
   "pygments_lexer": "ipython3",
   "version": "3.12.0"
  }
 },
 "nbformat": 4,
 "nbformat_minor": 2
}
